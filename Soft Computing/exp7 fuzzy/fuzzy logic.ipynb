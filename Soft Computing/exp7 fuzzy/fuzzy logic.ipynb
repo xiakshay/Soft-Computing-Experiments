{
 "cells": [
  {
   "cell_type": "code",
   "execution_count": 1,
   "id": "467a5151",
   "metadata": {},
   "outputs": [
    {
     "name": "stdout",
     "output_type": "stream",
     "text": [
      "The First Fuzzy Set is : {'a': 0.3, 'b': 0.6, 'c': 0.4}\n",
      "The Second Fuzzy Set is : {'a': 0.5, 'b': 0.2, 'c': 0.7}\n"
     ]
    }
   ],
   "source": [
    "A = dict()\n",
    "B = dict()\n",
    "Y = dict()\n",
    "\n",
    "A = {\"a\": 0.3, \"b\": 0.6, \"c\": 0.4}\n",
    "B = {\"a\": 0.5, \"b\": 0.2, \"c\": 0.7}\n",
    "\n",
    "print('The First Fuzzy Set is :', A)\n",
    "print('The Second Fuzzy Set is :', B)"
   ]
  },
  {
   "cell_type": "code",
   "execution_count": 2,
   "id": "5d5422e0",
   "metadata": {},
   "outputs": [
    {
     "name": "stdout",
     "output_type": "stream",
     "text": [
      "Fuzzy Set Union is : {'a': 0.5, 'b': 0.6, 'c': 0.7}\n"
     ]
    }
   ],
   "source": [
    "Y = dict()\n",
    "for A_key, B_key in zip(A, B):\n",
    "    A_value = A[A_key]\n",
    "    B_value = B[B_key]\n",
    "\n",
    "    if A_value > B_value:\n",
    "        Y[A_key] = A_value\n",
    "    else:\n",
    "        Y[B_key] = B_value\n",
    "\n",
    "print('Fuzzy Set Union is :', Y)"
   ]
  },
  {
   "cell_type": "code",
   "execution_count": 3,
   "id": "b48243d0",
   "metadata": {},
   "outputs": [
    {
     "name": "stdout",
     "output_type": "stream",
     "text": [
      "Fuzzy Set Intersection is : {'a': 0.3, 'b': 0.2, 'c': 0.4}\n"
     ]
    }
   ],
   "source": [
    "Y = dict()\n",
    "for A_key, B_key in zip(A, B):\n",
    "    A_value = A[A_key]\n",
    "    B_value = B[B_key]\n",
    " \n",
    "    if A_value < B_value:\n",
    "        Y[A_key] = A_value\n",
    "    else:\n",
    "        Y[B_key] = B_value\n",
    "print('Fuzzy Set Intersection is :', Y)"
   ]
  },
  {
   "cell_type": "code",
   "execution_count": 4,
   "id": "9cb66ea9",
   "metadata": {},
   "outputs": [
    {
     "name": "stdout",
     "output_type": "stream",
     "text": [
      "Fuzzy Set Complement is : {'a': 0.7, 'b': 0.4, 'c': 0.6}\n",
      "Fuzzy Set Complement is : {'a': 0.5, 'b': 0.8, 'c': 0.30000000000000004}\n"
     ]
    }
   ],
   "source": [
    "Y = dict()\n",
    "for A_key in A:\n",
    "   Y[A_key]= 1-A[A_key]\n",
    "         \n",
    "print('Fuzzy Set Complement is :', Y)\n",
    "\n",
    "Y = dict()\n",
    "for B_key in B:\n",
    "   Y[B_key]= 1-B[B_key]\n",
    "         \n",
    "print('Fuzzy Set Complement is :', Y)"
   ]
  },
  {
   "cell_type": "code",
   "execution_count": 5,
   "id": "3ac7df28",
   "metadata": {},
   "outputs": [
    {
     "name": "stdout",
     "output_type": "stream",
     "text": [
      "Fuzzy Set Difference is : {'a': 0.3, 'b': 0.6, 'c': 0.30000000000000004}\n"
     ]
    }
   ],
   "source": [
    "Y = dict()\n",
    "for A_key, B_key in zip(A, B):\n",
    "    A_value = A[A_key]\n",
    "    B_value = B[B_key]\n",
    "    B_value = 1 - B_value\n",
    " \n",
    "    if A_value < B_value:\n",
    "        Y[A_key] = A_value\n",
    "    else:\n",
    "        Y[B_key] = B_value\n",
    "         \n",
    "print('Fuzzy Set Difference is :', Y)"
   ]
  }
 ],
 "metadata": {
  "kernelspec": {
   "display_name": "Python 3 (ipykernel)",
   "language": "python",
   "name": "python3"
  },
  "language_info": {
   "codemirror_mode": {
    "name": "ipython",
    "version": 3
   },
   "file_extension": ".py",
   "mimetype": "text/x-python",
   "name": "python",
   "nbconvert_exporter": "python",
   "pygments_lexer": "ipython3",
   "version": "3.8.8"
  }
 },
 "nbformat": 4,
 "nbformat_minor": 5
}
