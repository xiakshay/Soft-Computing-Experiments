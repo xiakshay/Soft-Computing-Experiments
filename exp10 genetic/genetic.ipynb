{
  "cells": [
    {
      "cell_type": "markdown",
      "id": "54230b32",
      "metadata": {
        "id": "54230b32"
      },
      "source": [
        "### Write a python program for implementing crossover and mutation operations in genetic algorithms. "
      ]
    },
    {
      "cell_type": "code",
      "execution_count": null,
      "id": "abaf0c70",
      "metadata": {
        "id": "abaf0c70"
      },
      "outputs": [],
      "source": [
        "from numpy.random import randint\n",
        "from numpy.random import rand\n",
        " \n",
        "# objective function\n",
        "def onemax(x):\n",
        "\treturn -sum(x)\n",
        " \n",
        "# tournament selection\n",
        "def selection(pop, scores, k=3):\n",
        "\t# first random selection\n",
        "\tselection_ix = randint(len(pop))\n",
        "\tfor ix in randint(0, len(pop), k-1):\n",
        "\t\t# check if better (e.g. perform a tournament)\n",
        "\t\tif scores[ix] < scores[selection_ix]:\n",
        "\t\t\tselection_ix = ix\n",
        "\treturn pop[selection_ix]"
      ]
    },
    {
      "cell_type": "code",
      "execution_count": null,
      "id": "9747e49e",
      "metadata": {
        "id": "9747e49e"
      },
      "outputs": [],
      "source": [
        "# crossover two parents to create two children\n",
        "def crossover(p1, p2, r_cross):\n",
        "\t# children are copies of parents by default\n",
        "\tc1, c2 = p1.copy(), p2.copy()\n",
        "\t# check for recombination\n",
        "\tif rand() < r_cross:\n",
        "\t\t# select crossover point that is not on the end of the string\n",
        "\t\tpt = randint(1, len(p1)-2)\n",
        "\t\t# perform crossover\n",
        "\t\tc1 = p1[:pt] + p2[pt:]\n",
        "\t\tc2 = p2[:pt] + p1[pt:]\n",
        "\treturn [c1, c2]\n",
        " "
      ]
    },
    {
      "cell_type": "code",
      "execution_count": null,
      "id": "999d7a98",
      "metadata": {
        "id": "999d7a98"
      },
      "outputs": [],
      "source": [
        "# mutation operator\n",
        "def mutation(bitstring, r_mut):\n",
        "\tfor i in range(len(bitstring)):\n",
        "\t\t# check for a mutation\n",
        "\t\tif rand() < r_mut:\n",
        "\t\t\t# flip the bit\n",
        "\t\t\tbitstring[i] = 1 - bitstring[i]"
      ]
    },
    {
      "cell_type": "code",
      "execution_count": null,
      "id": "85848621",
      "metadata": {
        "id": "85848621"
      },
      "outputs": [],
      "source": [
        "# genetic algorithm\n",
        "def genetic_algorithm(objective, n_bits, n_iter, n_pop, r_cross, r_mut):\n",
        "\t# initial population of random bitstring\n",
        "\tpop = [randint(0, 2, n_bits).tolist() for _ in range(n_pop)]\n",
        "\t# keep track of best solution\n",
        "\tbest, best_eval = 0, objective(pop[0])\n",
        "\t# enumerate generations\n",
        "\tfor gen in range(n_iter):\n",
        "\t\t# evaluate all candidates in the population\n",
        "\t\tscores = [objective(c) for c in pop]\n",
        "\t\t# check for new best solution\n",
        "\t\tfor i in range(n_pop):\n",
        "\t\t\tif scores[i] < best_eval:\n",
        "\t\t\t\tbest, best_eval = pop[i], scores[i]\n",
        "\t\t\t\tprint(\">%d, new best f(%s) = %.3f\" % (gen,  pop[i], scores[i]))\n",
        "\t\t# select parents\n",
        "\t\tselected = [selection(pop, scores) for _ in range(n_pop)]\n",
        "\t\t# create the next generation\n",
        "\t\tchildren = list()\n",
        "\t\tfor i in range(0, n_pop, 2):\n",
        "\t\t\t# get selected parents in pairs\n",
        "\t\t\tp1, p2 = selected[i], selected[i+1]\n",
        "\t\t\t# crossover and mutation\n",
        "\t\t\tfor c in crossover(p1, p2, r_cross):\n",
        "\t\t\t\t# mutation\n",
        "\t\t\t\tmutation(c, r_mut)\n",
        "\t\t\t\t# store for next generation\n",
        "\t\t\t\tchildren.append(c)\n",
        "\t\t# replace population\n",
        "\t\tpop = children\n",
        "\treturn [best, best_eval]"
      ]
    },
    {
      "cell_type": "code",
      "execution_count": null,
      "id": "9f00e1af",
      "metadata": {
        "colab": {
          "base_uri": "https://localhost:8080/"
        },
        "id": "9f00e1af",
        "outputId": "dddf7868-7d51-4b25-bceb-10a5ea6fe1fc"
      },
      "outputs": [
        {
          "output_type": "stream",
          "name": "stdout",
          "text": [
            ">0, new best f([1, 0, 1, 1, 1, 0, 1, 0, 1, 0, 0, 1, 1, 0, 1, 1, 0, 1, 1, 0]) = -12.000\n",
            ">0, new best f([1, 1, 0, 1, 0, 0, 1, 1, 1, 1, 0, 1, 0, 0, 1, 1, 1, 0, 1, 1]) = -13.000\n",
            ">0, new best f([1, 1, 0, 1, 1, 1, 0, 1, 1, 1, 0, 0, 1, 1, 1, 0, 1, 1, 1, 1]) = -15.000\n",
            ">1, new best f([0, 1, 1, 1, 1, 1, 1, 1, 1, 0, 0, 1, 1, 1, 1, 1, 0, 1, 1, 1]) = -16.000\n",
            ">3, new best f([1, 1, 0, 1, 1, 1, 1, 1, 1, 1, 0, 1, 1, 1, 0, 1, 1, 1, 1, 1]) = -17.000\n",
            ">3, new best f([1, 1, 0, 1, 0, 1, 1, 1, 1, 1, 1, 1, 1, 1, 1, 1, 1, 1, 1, 1]) = -18.000\n",
            ">4, new best f([1, 1, 1, 1, 1, 1, 1, 1, 1, 1, 1, 1, 1, 1, 0, 1, 1, 1, 1, 1]) = -19.000\n",
            ">5, new best f([1, 1, 1, 1, 1, 1, 1, 1, 1, 1, 1, 1, 1, 1, 1, 1, 1, 1, 1, 1]) = -20.000\n",
            "Done!\n",
            "f([1, 1, 1, 1, 1, 1, 1, 1, 1, 1, 1, 1, 1, 1, 1, 1, 1, 1, 1, 1]) = -20.000000\n"
          ]
        }
      ],
      "source": [
        "# define the total iterations\n",
        "n_iter = 100\n",
        "# bits\n",
        "n_bits = 20\n",
        "# define the population size\n",
        "n_pop = 100\n",
        "# crossover rate\n",
        "r_cross = 0.9\n",
        "# mutation rate\n",
        "r_mut = 1.0 / float(n_bits)\n",
        "# perform the genetic algorithm search\n",
        "best, score = genetic_algorithm(onemax, n_bits, n_iter, n_pop, r_cross, r_mut)\n",
        "print('Done!')\n",
        "print('f(%s) = %f' % (best, score))"
      ]
    },
    {
      "cell_type": "code",
      "execution_count": null,
      "id": "541be636",
      "metadata": {
        "id": "541be636"
      },
      "outputs": [],
      "source": []
    }
  ],
  "metadata": {
    "kernelspec": {
      "display_name": "Python 3 (ipykernel)",
      "language": "python",
      "name": "python3"
    },
    "language_info": {
      "codemirror_mode": {
        "name": "ipython",
        "version": 3
      },
      "file_extension": ".py",
      "mimetype": "text/x-python",
      "name": "python",
      "nbconvert_exporter": "python",
      "pygments_lexer": "ipython3",
      "version": "3.7.3"
    },
    "colab": {
      "provenance": [],
      "collapsed_sections": []
    }
  },
  "nbformat": 4,
  "nbformat_minor": 5
}