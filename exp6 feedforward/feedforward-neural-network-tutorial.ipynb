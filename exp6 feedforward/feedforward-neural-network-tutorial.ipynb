{
 "cells": [
  {
   "cell_type": "markdown",
   "metadata": {
    "_uuid": "330eaeb5445013cc94cab5e74ba7504f3112a03e"
   },
   "source": [
    "# Neural Network Tutorial"
   ]
  },
  {
   "cell_type": "code",
   "execution_count": 1,
   "metadata": {
    "_uuid": "896b93bacc0f7a08db7b7efff2c80f922efcef57"
   },
   "outputs": [
    {
     "name": "stderr",
     "output_type": "stream",
     "text": [
      "Using TensorFlow backend.\n"
     ]
    }
   ],
   "source": [
    "import math\n",
    "import pandas as pd\n",
    "from keras import models, layers, optimizers, regularizers\n",
    "import numpy as np\n",
    "import random\n",
    "from sklearn import model_selection, preprocessing\n",
    "import tensorflow as tf\n",
    "from tqdm import tqdm\n",
    "import matplotlib.pyplot as plt"
   ]
  },
  {
   "cell_type": "markdown",
   "metadata": {
    "_uuid": "c692c22bbf3ec91df8c706573b74d25de0b9ad0a"
   },
   "source": [
    "## Prepare the Data\n",
    "\n",
    "We will use the same South African heart disease data we have been using to now.\n",
    "\n",
    "There is nothing new here so we will quickly run through this."
   ]
  },
  {
   "cell_type": "code",
   "execution_count": 2,
   "metadata": {
    "_uuid": "421a77283d663a7be4489a93c968d22c09932fe9"
   },
   "outputs": [],
   "source": [
    "file_name = '../input/SAheart.data'\n",
    "data = pd.read_csv(file_name, sep=',', index_col=0)"
   ]
  },
  {
   "cell_type": "code",
   "execution_count": 3,
   "metadata": {
    "_uuid": "f6b59189dd3e272fbdfbe131773faa991aa89b16"
   },
   "outputs": [
    {
     "data": {
      "text/html": [
       "<div>\n",
       "<style scoped>\n",
       "    .dataframe tbody tr th:only-of-type {\n",
       "        vertical-align: middle;\n",
       "    }\n",
       "\n",
       "    .dataframe tbody tr th {\n",
       "        vertical-align: top;\n",
       "    }\n",
       "\n",
       "    .dataframe thead th {\n",
       "        text-align: right;\n",
       "    }\n",
       "</style>\n",
       "<table border=\"1\" class=\"dataframe\">\n",
       "  <thead>\n",
       "    <tr style=\"text-align: right;\">\n",
       "      <th></th>\n",
       "      <th>sbp</th>\n",
       "      <th>tobacco</th>\n",
       "      <th>ldl</th>\n",
       "      <th>adiposity</th>\n",
       "      <th>famhist</th>\n",
       "      <th>typea</th>\n",
       "      <th>obesity</th>\n",
       "      <th>alcohol</th>\n",
       "      <th>age</th>\n",
       "      <th>chd</th>\n",
       "    </tr>\n",
       "    <tr>\n",
       "      <th>row.names</th>\n",
       "      <th></th>\n",
       "      <th></th>\n",
       "      <th></th>\n",
       "      <th></th>\n",
       "      <th></th>\n",
       "      <th></th>\n",
       "      <th></th>\n",
       "      <th></th>\n",
       "      <th></th>\n",
       "      <th></th>\n",
       "    </tr>\n",
       "  </thead>\n",
       "  <tbody>\n",
       "    <tr>\n",
       "      <th>1</th>\n",
       "      <td>160</td>\n",
       "      <td>12.00</td>\n",
       "      <td>5.73</td>\n",
       "      <td>23.11</td>\n",
       "      <td>True</td>\n",
       "      <td>49</td>\n",
       "      <td>25.30</td>\n",
       "      <td>97.20</td>\n",
       "      <td>52</td>\n",
       "      <td>1</td>\n",
       "    </tr>\n",
       "    <tr>\n",
       "      <th>2</th>\n",
       "      <td>144</td>\n",
       "      <td>0.01</td>\n",
       "      <td>4.41</td>\n",
       "      <td>28.61</td>\n",
       "      <td>False</td>\n",
       "      <td>55</td>\n",
       "      <td>28.87</td>\n",
       "      <td>2.06</td>\n",
       "      <td>63</td>\n",
       "      <td>1</td>\n",
       "    </tr>\n",
       "    <tr>\n",
       "      <th>3</th>\n",
       "      <td>118</td>\n",
       "      <td>0.08</td>\n",
       "      <td>3.48</td>\n",
       "      <td>32.28</td>\n",
       "      <td>True</td>\n",
       "      <td>52</td>\n",
       "      <td>29.14</td>\n",
       "      <td>3.81</td>\n",
       "      <td>46</td>\n",
       "      <td>0</td>\n",
       "    </tr>\n",
       "    <tr>\n",
       "      <th>4</th>\n",
       "      <td>170</td>\n",
       "      <td>7.50</td>\n",
       "      <td>6.41</td>\n",
       "      <td>38.03</td>\n",
       "      <td>True</td>\n",
       "      <td>51</td>\n",
       "      <td>31.99</td>\n",
       "      <td>24.26</td>\n",
       "      <td>58</td>\n",
       "      <td>1</td>\n",
       "    </tr>\n",
       "    <tr>\n",
       "      <th>5</th>\n",
       "      <td>134</td>\n",
       "      <td>13.60</td>\n",
       "      <td>3.50</td>\n",
       "      <td>27.78</td>\n",
       "      <td>True</td>\n",
       "      <td>60</td>\n",
       "      <td>25.99</td>\n",
       "      <td>57.34</td>\n",
       "      <td>49</td>\n",
       "      <td>1</td>\n",
       "    </tr>\n",
       "  </tbody>\n",
       "</table>\n",
       "</div>"
      ],
      "text/plain": [
       "           sbp  tobacco   ldl  adiposity ...   obesity  alcohol  age  chd\n",
       "row.names                                ...                             \n",
       "1          160    12.00  5.73      23.11 ...     25.30    97.20   52    1\n",
       "2          144     0.01  4.41      28.61 ...     28.87     2.06   63    1\n",
       "3          118     0.08  3.48      32.28 ...     29.14     3.81   46    0\n",
       "4          170     7.50  6.41      38.03 ...     31.99    24.26   58    1\n",
       "5          134    13.60  3.50      27.78 ...     25.99    57.34   49    1\n",
       "\n",
       "[5 rows x 10 columns]"
      ]
     },
     "execution_count": 3,
     "metadata": {},
     "output_type": "execute_result"
    }
   ],
   "source": [
    "data['famhist'] = data['famhist'] == 'Present'\n",
    "data.head()"
   ]
  },
  {
   "cell_type": "code",
   "execution_count": 4,
   "metadata": {},
   "outputs": [
    {
     "name": "stdout",
     "output_type": "stream",
     "text": [
      "323\n",
      "139\n"
     ]
    }
   ],
   "source": [
    "n_test = int(math.ceil(len(data) * 0.3))\n",
    "random.seed(42)\n",
    "test_ixs = random.sample(list(range(len(data))), n_test)\n",
    "train_ixs = [ix for ix in range(len(data)) if ix not in test_ixs]\n",
    "train = data.iloc[train_ixs, :]\n",
    "test = data.iloc[test_ixs, :]\n",
    "print(len(train))\n",
    "print(len(test))"
   ]
  },
  {
   "cell_type": "code",
   "execution_count": 5,
   "metadata": {
    "_uuid": "9f8103c9c1fe0c680d518d85335900c805bdcfa7"
   },
   "outputs": [],
   "source": [
    "#features = ['sbp', 'tobacco', 'ldl', 'adiposity', 'famhist', 'typea', 'obesity', 'alcohol', 'age']\n",
    "features = ['adiposity', 'age']\n",
    "response = 'chd'\n",
    "x_train = train[features]\n",
    "y_train = train[response]\n",
    "x_test = test[features]\n",
    "y_test = test[response]"
   ]
  },
  {
   "cell_type": "markdown",
   "metadata": {
    "_uuid": "3447717ef18bead5e9d660e90daf40cdb47ae850"
   },
   "source": [
    "Here we will manually **normalize** the data. We can very conveniently use `sklearn.preprocessing.normalize()` - reference http://scikit-learn.org/stable/modules/generated/sklearn.preprocessing.normalize.html. This is critical. If we don't we may find the neural network won't learn anything useful."
   ]
  },
  {
   "cell_type": "code",
   "execution_count": 6,
   "metadata": {
    "_uuid": "878bddd3cb72ae2d50e437b5b4d7a71bf7fce40f"
   },
   "outputs": [],
   "source": [
    "x_train = preprocessing.normalize(x_train)\n",
    "x_test = preprocessing.normalize(x_test)"
   ]
  },
  {
   "cell_type": "markdown",
   "metadata": {
    "_uuid": "8513238b90b054bdce894416158a3574127dbc28"
   },
   "source": [
    "# Create a Baseline NN Model\n",
    "\n",
    "We will create a simple neural network to try and beat our best results with logistic regression and decision trees.\n",
    "\n",
    "We will use a single hidden layer to learn useful features for our task, and then a final layer to perform classification.\n",
    "\n",
    "![nn](https://www.learnopencv.com/wp-content/uploads/2017/10/mlp-diagram.jpg)\n",
    "\n",
    "The clode below uses `keras`, a very simple neural network package. You can study the code here to see what it is doing.\n",
    "\n",
    "We will use the next cell to control our hyperparameters."
   ]
  },
  {
   "cell_type": "code",
   "execution_count": 7,
   "metadata": {
    "_uuid": "09eb8b5d0226a71f262e12fe35a91c48110e635d"
   },
   "outputs": [],
   "source": [
    "hidden_units = 10     # how many neurons in the hidden layer\n",
    "activation = 'relu'   # activation function for hidden layer\n",
    "l2 = 0.01             # regularization - how much we penalize large parameter values\n",
    "learning_rate = 0.01  # how big our steps are in gradient descent\n",
    "epochs = 5            # how many epochs to train for\n",
    "batch_size = 16       # how many samples to use for each gradient descent update"
   ]
  },
  {
   "cell_type": "markdown",
   "metadata": {
    "_uuid": "43b9c3430bfb70e1ae96d0b574056752452db137"
   },
   "source": [
    "The following cell builds the model to these specifications."
   ]
  },
  {
   "cell_type": "code",
   "execution_count": 8,
   "metadata": {
    "_uuid": "92f706cba6045a4fa6da7ea3bb4e36b143529c75"
   },
   "outputs": [],
   "source": [
    "# create a sequential model\n",
    "model = models.Sequential()\n",
    "\n",
    "# add the hidden layer\n",
    "model.add(layers.Dense(input_dim=len(features),\n",
    "                       units=hidden_units, \n",
    "                       activation=activation))\n",
    "\n",
    "# add the output layer\n",
    "model.add(layers.Dense(input_dim=hidden_units,\n",
    "                       units=1,\n",
    "                       activation='sigmoid'))\n",
    "\n",
    "# define our loss function and optimizer\n",
    "model.compile(loss='binary_crossentropy',\n",
    "              # Adam is a kind of gradient descent\n",
    "              optimizer=optimizers.Adam(lr=learning_rate),\n",
    "              metrics=['accuracy'])"
   ]
  },
  {
   "cell_type": "markdown",
   "metadata": {
    "_uuid": "03b9f8b48a5c557e139e2d8eaa238493ae9cb0ca"
   },
   "source": [
    "Now we train the model and see our results."
   ]
  },
  {
   "cell_type": "code",
   "execution_count": 9,
   "metadata": {
    "_uuid": "28edb611d04a25ed6c74158d3dec2d00291b22b4"
   },
   "outputs": [
    {
     "name": "stdout",
     "output_type": "stream",
     "text": [
      "Epoch 1/10\n",
      "323/323 [==============================] - 0s 832us/step - loss: 0.6298 - acc: 0.6718\n",
      "Epoch 2/10\n",
      "323/323 [==============================] - 0s 91us/step - loss: 0.6250 - acc: 0.6718\n",
      "Epoch 3/10\n",
      "323/323 [==============================] - 0s 103us/step - loss: 0.6298 - acc: 0.6718\n",
      "Epoch 4/10\n",
      "323/323 [==============================] - 0s 94us/step - loss: 0.6207 - acc: 0.6718\n",
      "Epoch 5/10\n",
      "323/323 [==============================] - 0s 97us/step - loss: 0.6178 - acc: 0.6718\n",
      "Epoch 6/10\n",
      "323/323 [==============================] - 0s 94us/step - loss: 0.6178 - acc: 0.6718\n",
      "Epoch 7/10\n",
      "323/323 [==============================] - 0s 91us/step - loss: 0.6150 - acc: 0.6718\n",
      "Epoch 8/10\n",
      "323/323 [==============================] - 0s 97us/step - loss: 0.6131 - acc: 0.6718\n",
      "Epoch 9/10\n",
      "323/323 [==============================] - 0s 94us/step - loss: 0.6116 - acc: 0.6718\n",
      "Epoch 10/10\n",
      "323/323 [==============================] - 0s 95us/step - loss: 0.6120 - acc: 0.6718\n",
      "323/323 [==============================] - 0s 129us/step\n",
      "139/139 [==============================] - 0s 36us/step\n",
      "Training accuracy: 0.6718266253869969\n",
      "Testing accuracy: 0.6115107930821481\n"
     ]
    },
    {
     "data": {
      "image/png": "[encoded data removed]",
      "text/plain": [
       "<Figure size 432x288 with 1 Axes>"
      ]
     },
     "metadata": {
      "needs_background": "light"
     },
     "output_type": "display_data"
    }
   ],
   "source": [
    "# train the parameters\n",
    "history = model.fit(x_train, y_train, epochs=10, batch_size=batch_size)\n",
    "\n",
    "# evaluate accuracy\n",
    "train_acc = model.evaluate(x_train, y_train, batch_size=32)[1]\n",
    "test_acc = model.evaluate(x_test, y_test, batch_size=32)[1]\n",
    "print('Training accuracy: %s' % train_acc)\n",
    "print('Testing accuracy: %s' % test_acc)\n",
    "\n",
    "losses = history.history['loss']\n",
    "plt.plot(range(len(losses)), losses, 'r')\n",
    "plt.show()\n",
    "\n",
    "### RUN IT AGAIN! ###"
   ]
  },
  {
   "cell_type": "markdown",
   "metadata": {
    "_uuid": "16aef5e679af89db0db082f4e0cec852f15cd451"
   },
   "source": [
    "## Non-Determinacy"
   ]
  },
  {
   "cell_type": "markdown",
   "metadata": {
    "_uuid": "bc83d6db00e3541bc617baafa53ea7abaccf73a9"
   },
   "source": [
    "The initial parameters of the network will be randomly determined. We will start on a random part of the loss surface each time. This will lead to a different result.\n",
    "\n",
    "This is actually a research probelm at the moment. So what can we do if we want a fair competition? We will train our network 20 times and take the average."
   ]
  },
  {
   "cell_type": "code",
   "execution_count": 10,
   "metadata": {
    "_uuid": "f0217efe539d9d5967b96c4ff249308da7ad8019"
   },
   "outputs": [],
   "source": [
    "def train_and_evaluate(model, x_train, y_train, x_test, y_test, n=20):\n",
    "    train_accs = []\n",
    "    test_accs = []\n",
    "    with tqdm(total=n) as progress_bar:\n",
    "        for _ in range(n):\n",
    "            model.fit(\n",
    "                x_train, \n",
    "                y_train, \n",
    "                epochs=epochs, \n",
    "                batch_size=batch_size,\n",
    "                verbose=False)\n",
    "            train_accs.append(model.evaluate(x_train, y_train, batch_size=32, verbose=False)[1])\n",
    "            test_accs.append(model.evaluate(x_test, y_test, batch_size=32, verbose=False)[1])\n",
    "            progress_bar.update()\n",
    "    print('Avgerage Training Accuracy: %s' % np.average(train_accs))\n",
    "    print('Avgerage Testing Accuracy: %s' % np.average(test_accs))\n",
    "    return train_accs, test_accs"
   ]
  },
  {
   "cell_type": "code",
   "execution_count": 11,
   "metadata": {
    "_uuid": "98772fd17db08d771045ec569ac9b8146acc33a1"
   },
   "outputs": [
    {
     "name": "stderr",
     "output_type": "stream",
     "text": [
      "100%|██████████| 20/20 [00:02<00:00,  8.95it/s]"
     ]
    },
    {
     "name": "stdout",
     "output_type": "stream",
     "text": [
      "Avgerage Training Accuracy: 0.6713622291021671\n",
      "Avgerage Testing Accuracy: 0.6118705053123639\n"
     ]
    },
    {
     "name": "stderr",
     "output_type": "stream",
     "text": [
      "\n"
     ]
    }
   ],
   "source": [
    "_, test_accs = train_and_evaluate(model, x_train, y_train, x_test, y_test)"
   ]
  },
  {
   "cell_type": "markdown",
   "metadata": {
    "_uuid": "9e385c140ba354f1604fc4680e404a4d535d574c"
   },
   "source": [
    "That is still giving some variance but if is much more reliable. The more times we average over the more reliable that result will be. It is certainly much better than taking a single run as an indicator of how good a model is."
   ]
  },
  {
   "cell_type": "code",
   "execution_count": 12,
   "metadata": {
    "_uuid": "86dae817c16b28338582a4019a5fd6c0cc67d4fd"
   },
   "outputs": [
    {
     "data": {
      "image/png": "[encoded data removed]",
      "text/plain": [
       "<Figure size 432x288 with 1 Axes>"
      ]
     },
     "metadata": {
      "needs_background": "light"
     },
     "output_type": "display_data"
    }
   ],
   "source": [
    "plt.hist(test_accs)\n",
    "plt.show()"
   ]
  },
  {
   "cell_type": "code",
   "execution_count": 13,
   "metadata": {
    "_uuid": "73a998edbf973fbbbf036c92fb7e5029a8072a46"
   },
   "outputs": [
    {
     "name": "stdout",
     "output_type": "stream",
     "text": [
      "Min: 0.6115107930821481\n",
      "Max: 0.6187050376864646\n"
     ]
    }
   ],
   "source": [
    "print('Min: %s' % np.min(test_accs))\n",
    "print('Max: %s' % np.max(test_accs))"
   ]
  },
  {
   "cell_type": "markdown",
   "metadata": {
    "_uuid": "199f3f4bebe5861f1700f831b6873a7c9f369983"
   },
   "source": [
    "## Beat the Baseline\n",
    "\n",
    "Beat the average testing accuracy I achieved above.\n",
    "\n",
    "You can control network and learning hyperparameters in the following cell."
   ]
  },
  {
   "cell_type": "code",
   "execution_count": 14,
   "metadata": {
    "_uuid": "a0b876f9c0f8c0bb94619b5cab05743a864482b3"
   },
   "outputs": [],
   "source": [
    "hidden_units = 10     # how many neurons in the hidden layer\n",
    "activation = 'relu'   # activation function for hidden layer\n",
    "l2 = 0.01             # regularization - how much we penalize large parameter values\n",
    "learning_rate = 0.01  # how big our steps are in gradient descent\n",
    "epochs = 5            # how many epochs to train for\n",
    "batch_size = 16       # how many samples to use for each gradient descent update"
   ]
  },
  {
   "cell_type": "markdown",
   "metadata": {
    "_uuid": "e829ec4c0610feb46e5c26dc4bd8e3604fc4bda6"
   },
   "source": [
    "The following cell will build the model according to your hyperparameters above. If you like you can add and remove layers."
   ]
  },
  {
   "cell_type": "code",
   "execution_count": 15,
   "metadata": {
    "_uuid": "402b9352e2284b3f36039e4c74d6f2fb7a54733f"
   },
   "outputs": [],
   "source": [
    "# create a sequential model\n",
    "model = models.Sequential()\n",
    "\n",
    "# add the hidden layer\n",
    "model.add(layers.Dense(input_dim=len(features),\n",
    "                       units=hidden_units, \n",
    "                       activation=activation))\n",
    "\n",
    "# add the output layer\n",
    "model.add(layers.Dense(input_dim=hidden_units,\n",
    "                       units=1,\n",
    "                       activation='sigmoid'))\n",
    "\n",
    "# define our loss function and optimizer\n",
    "model.compile(loss='binary_crossentropy',\n",
    "              # Adam is a kind of gradient descent\n",
    "              optimizer=optimizers.Adam(lr=learning_rate),\n",
    "              metrics=['accuracy'])"
   ]
  },
  {
   "cell_type": "markdown",
   "metadata": {
    "_uuid": "cfa6bd4a413dab2602f28f36f70b751186189e74"
   },
   "source": [
    "Use the following cell to get your average test set accuracy."
   ]
  },
  {
   "cell_type": "code",
   "execution_count": 16,
   "metadata": {
    "_uuid": "81678b5ac9a8ec35785e3cbd0c571085d9b12513"
   },
   "outputs": [
    {
     "name": "stderr",
     "output_type": "stream",
     "text": [
      "100%|██████████| 20/20 [00:02<00:00,  8.70it/s]"
     ]
    },
    {
     "name": "stdout",
     "output_type": "stream",
     "text": [
      "Avgerage Training Accuracy: 0.6691950464765354\n",
      "Avgerage Testing Accuracy: 0.6133093542332272\n"
     ]
    },
    {
     "name": "stderr",
     "output_type": "stream",
     "text": [
      "\n"
     ]
    }
   ],
   "source": [
    "_, __ = train_and_evaluate(model, x_train, y_train, x_test, y_test)"
   ]
  },
  {
   "cell_type": "code",
   "execution_count": null,
   "metadata": {
    "_uuid": "5eb39aa5f6244d3fc7e1ac640d00462ceaac916d"
   },
   "outputs": [],
   "source": []
  }
 ],
 "metadata": {
  "kernelspec": {
   "display_name": "Python 3",
   "language": "python",
   "name": "python3"
  },
  "language_info": {
   "codemirror_mode": {
    "name": "ipython",
    "version": 3
   },
   "file_extension": ".py",
   "mimetype": "text/x-python",
   "name": "python",
   "nbconvert_exporter": "python",
   "pygments_lexer": "ipython3",
   "version": "3.6.6"
  }
 },
 "nbformat": 4,
 "nbformat_minor": 1
}
