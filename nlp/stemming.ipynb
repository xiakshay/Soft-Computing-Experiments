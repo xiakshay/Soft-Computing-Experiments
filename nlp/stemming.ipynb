{
 "cells": [
  {
   "cell_type": "code",
   "execution_count": 1,
   "id": "528360f9",
   "metadata": {},
   "outputs": [
    {
     "name": "stdout",
     "output_type": "stream",
     "text": [
      "Porter Stemmer: run\n",
      "Lancaster Stemmer: run\n",
      "Snowball Stemmer: run\n"
     ]
    }
   ],
   "source": [
    "import nltk\n",
    "from nltk.stem import PorterStemmer, LancasterStemmer, SnowballStemmer\n",
    "\n",
    "def stemming_example(word):\n",
    "    # Porter Stemmer\n",
    "    porter_stemmer = PorterStemmer()\n",
    "    porter_stemmed_word = porter_stemmer.stem(word)\n",
    "    print(\"Porter Stemmer:\", porter_stemmed_word)\n",
    "\n",
    "    # Lancaster Stemmer\n",
    "    lancaster_stemmer = LancasterStemmer()\n",
    "    lancaster_stemmed_word = lancaster_stemmer.stem(word)\n",
    "    print(\"Lancaster Stemmer:\", lancaster_stemmed_word)\n",
    "\n",
    "    # Snowball Stemmer (English)\n",
    "    snowball_stemmer = SnowballStemmer(\"english\")\n",
    "    snowball_stemmed_word = snowball_stemmer.stem(word)\n",
    "    print(\"Snowball Stemmer:\", snowball_stemmed_word)\n",
    "\n",
    "# Example usage\n",
    "word = \"running\"\n",
    "stemming_example(word)\n"
   ]
  },
  {
   "cell_type": "code",
   "execution_count": null,
   "id": "ddb87ef4",
   "metadata": {},
   "outputs": [],
   "source": []
  }
 ],
 "metadata": {
  "kernelspec": {
   "display_name": "Python 3 (ipykernel)",
   "language": "python",
   "name": "python3"
  },
  "language_info": {
   "codemirror_mode": {
    "name": "ipython",
    "version": 3
   },
   "file_extension": ".py",
   "mimetype": "text/x-python",
   "name": "python",
   "nbconvert_exporter": "python",
   "pygments_lexer": "ipython3",
   "version": "3.10.9"
  }
 },
 "nbformat": 4,
 "nbformat_minor": 5
}
