{
 "cells": [
  {
   "cell_type": "code",
   "execution_count": 2,
   "id": "760e3a50",
   "metadata": {},
   "outputs": [
    {
     "name": "stdout",
     "output_type": "stream",
     "text": [
      "{('I', 'love'): 0.25, ('love', 'to'): 0.25, ('to', 'code'): 0.25, ('code', 'with'): 0.25, ('with', 'Python'): 0.25, ('Python', 'is'): 0.25, ('is', 'a'): 0.25, ('a', 'great'): 0.25, ('great', 'programming'): 0.25, ('programming', 'language'): 0.25}\n"
     ]
    }
   ],
   "source": [
    "from collections import defaultdict\n",
    "\n",
    "def train_ngram_model(sentences, n, k):\n",
    "    # Initialize n-gram dictionary\n",
    "    ngrams = defaultdict(int)\n",
    "\n",
    "    # Count n-grams in the training data\n",
    "    for sentence in sentences:\n",
    "        words = sentence.split()\n",
    "        for i in range(len(words) - n + 1):\n",
    "            ngram = tuple(words[i:i+n])\n",
    "            ngrams[ngram] += 1\n",
    "\n",
    "    # Compute total count of (n-1)-grams\n",
    "    n_minus_1_grams = defaultdict(int)\n",
    "    for ngram in ngrams:\n",
    "        n_minus_1_gram = ngram[:-1]\n",
    "        n_minus_1_grams[n_minus_1_gram] += ngrams[ngram]\n",
    "\n",
    "    # Calculate smoothed probabilities\n",
    "    probabilities = {}\n",
    "    for ngram in ngrams:\n",
    "        n_minus_1_gram = ngram[:-1]\n",
    "        probabilities[ngram] = (ngrams[ngram] + k) / (n_minus_1_grams[n_minus_1_gram] + k * len(n_minus_1_grams))\n",
    "\n",
    "    return probabilities\n",
    "\n",
    "sentences = [\n",
    "    \"I love to code with Python\",\n",
    "    \"Python is a great programming language\"\n",
    "]\n",
    "n = 2  # Generate bigrams\n",
    "k = 0.5  # Smoothing constant\n",
    "\n",
    "probabilities = train_ngram_model(sentences, n, k)\n",
    "print(probabilities)\n"
   ]
  },
  {
   "cell_type": "code",
   "execution_count": null,
   "id": "a93f3458",
   "metadata": {},
   "outputs": [],
   "source": []
  }
 ],
 "metadata": {
  "kernelspec": {
   "display_name": "Python 3 (ipykernel)",
   "language": "python",
   "name": "python3"
  },
  "language_info": {
   "codemirror_mode": {
    "name": "ipython",
    "version": 3
   },
   "file_extension": ".py",
   "mimetype": "text/x-python",
   "name": "python",
   "nbconvert_exporter": "python",
   "pygments_lexer": "ipython3",
   "version": "3.10.9"
  }
 },
 "nbformat": 4,
 "nbformat_minor": 5
}
