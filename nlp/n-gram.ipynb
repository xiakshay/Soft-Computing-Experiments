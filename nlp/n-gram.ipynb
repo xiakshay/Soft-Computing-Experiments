{
 "cells": [
  {
   "cell_type": "code",
   "execution_count": 1,
   "id": "840099ef",
   "metadata": {},
   "outputs": [
    {
     "name": "stdout",
     "output_type": "stream",
     "text": [
      "[('I', 'love'), ('love', 'to'), ('to', 'code'), ('code', 'with'), ('with', 'Python')]\n"
     ]
    }
   ],
   "source": [
    "import nltk\n",
    "\n",
    "def generate_ngrams(text, n):\n",
    "    # Tokenize the text into individual words\n",
    "    tokens = nltk.word_tokenize(text)\n",
    "\n",
    "    # Generate n-grams using the nltk.ngrams function\n",
    "    ngrams = list(nltk.ngrams(tokens, n))\n",
    "\n",
    "    return ngrams\n",
    "\n",
    "# Example usage\n",
    "text = \"I love to code with Python\"\n",
    "n = 2  # Generate bigrams\n",
    "\n",
    "result = generate_ngrams(text, n)\n",
    "print(result)\n"
   ]
  },
  {
   "cell_type": "code",
   "execution_count": 2,
   "id": "43897e37",
   "metadata": {},
   "outputs": [
    {
     "name": "stdout",
     "output_type": "stream",
     "text": [
      "[['I', 'love'], ['love', 'to'], ['to', 'code'], ['code', 'with'], ['with', 'Python']]\n"
     ]
    }
   ],
   "source": [
    "def generate_ngrams(text, n):\n",
    "    # Split the text into individual words\n",
    "    words = text.split()\n",
    "\n",
    "    # Generate n-grams\n",
    "    ngrams = []\n",
    "    for i in range(len(words) - n + 1):\n",
    "        ngrams.append(words[i:i+n])\n",
    "\n",
    "    return ngrams\n",
    "\n",
    "# Example usage\n",
    "text = \"I love to code with Python\"\n",
    "n = 2  # Generate bigrams\n",
    "\n",
    "result = generate_ngrams(text, n)\n",
    "print(result)\n"
   ]
  }
 ],
 "metadata": {
  "kernelspec": {
   "display_name": "Python 3 (ipykernel)",
   "language": "python",
   "name": "python3"
  },
  "language_info": {
   "codemirror_mode": {
    "name": "ipython",
    "version": 3
   },
   "file_extension": ".py",
   "mimetype": "text/x-python",
   "name": "python",
   "nbconvert_exporter": "python",
   "pygments_lexer": "ipython3",
   "version": "3.10.9"
  }
 },
 "nbformat": 4,
 "nbformat_minor": 5
}
