{
 "cells": [
  {
   "cell_type": "code",
   "execution_count": 2,
   "id": "77c70e1a",
   "metadata": {},
   "outputs": [
    {
     "name": "stderr",
     "output_type": "stream",
     "text": [
      "[nltk_data] Downloading package averaged_perceptron_tagger to\n",
      "[nltk_data]     C:\\Users\\AKSHAY KUMAR\\AppData\\Roaming\\nltk_data...\n",
      "[nltk_data]   Package averaged_perceptron_tagger is already up-to-\n",
      "[nltk_data]       date!\n"
     ]
    }
   ],
   "source": [
    "import nltk\n",
    "\n",
    "nltk.download('averaged_perceptron_tagger')\n",
    "\n",
    "sample_text = \"\"\"\n",
    "Rama killed Ravana to save Sita from Lanka. The legend of the Ramayana is the most popular Indian epic. A lot of movies and serials have already been shot in several languages here in India based on the Ramayana.\n",
    "\"\"\"\n",
    "\n",
    "tokenized = nltk.sent_tokenize(sample_text)\n",
    "\n",
    "for i in tokenized:\n",
    "    words = nltk.word_tokenize(i)\n",
    "    tagged_words = nltk.pos_tag(words)\n",
    "\n",
    "    chunkGram = r\"\"\"VB: {<VB.*>}\"\"\"  \n",
    "    chunkParser = nltk.RegexpParser(chunkGram)\n",
    "    chunked = chunkParser.parse(tagged_words)\n",
    "    chunked.draw()\n"
   ]
  },
  {
   "cell_type": "code",
   "execution_count": null,
   "id": "c437901a",
   "metadata": {},
   "outputs": [],
   "source": []
  }
 ],
 "metadata": {
  "kernelspec": {
   "display_name": "Python 3 (ipykernel)",
   "language": "python",
   "name": "python3"
  },
  "language_info": {
   "codemirror_mode": {
    "name": "ipython",
    "version": 3
   },
   "file_extension": ".py",
   "mimetype": "text/x-python",
   "name": "python",
   "nbconvert_exporter": "python",
   "pygments_lexer": "ipython3",
   "version": "3.8.8"
  }
 },
 "nbformat": 4,
 "nbformat_minor": 5
}
